{
  "nbformat": 4,
  "nbformat_minor": 0,
  "metadata": {
    "colab": {
      "name": "Lab2_matmod.ipynb",
      "provenance": []
    },
    "kernelspec": {
      "name": "python3",
      "display_name": "Python 3"
    },
    "language_info": {
      "name": "python"
    }
  },
  "cells": [
    {
      "cell_type": "markdown",
      "metadata": {
        "id": "2418YIcBwwwB"
      },
      "source": [
        "## Import modules"
      ]
    },
    {
      "cell_type": "code",
      "metadata": {
        "id": "-qKg0BtnwcD4"
      },
      "source": [
        "import numpy as np\n",
        "from scipy.optimize import linprog"
      ],
      "execution_count": 1,
      "outputs": []
    },
    {
      "cell_type": "markdown",
      "metadata": {
        "id": "_8idhB7jwsok"
      },
      "source": [
        "## Define constraints"
      ]
    },
    {
      "cell_type": "code",
      "metadata": {
        "id": "ivYnwQxcwkbq"
      },
      "source": [
        "# Constraints matrix\n",
        "A = np.array([[1, -2, 0, 1], [0, 1, 1, -3], [-1, 0, 0, 0], [0, -1, 0, 0], [0, 0, -1, 0], [0, 0, 0, -1]])\n",
        "\n",
        "# Constraints vector\n",
        "b = np.array([8, 6, 0, 0, 0, 0])\n",
        "\n",
        "# Function coefficients\n",
        "c = np.array([0, -3, 0, 1])"
      ],
      "execution_count": 2,
      "outputs": []
    },
    {
      "cell_type": "markdown",
      "metadata": {
        "id": "ZPZIP9riwqyu"
      },
      "source": [
        "## Solve"
      ]
    },
    {
      "cell_type": "code",
      "metadata": {
        "colab": {
          "base_uri": "https://localhost:8080/"
        },
        "id": "CIt4ZiQmwmLI",
        "outputId": "ea3918c0-44a5-49cf-fe65-a26423726523"
      },
      "source": [
        "res = linprog(c, A_ub=A, b_ub=b)"
      ],
      "execution_count": 3,
      "outputs": [
        {
          "output_type": "stream",
          "name": "stderr",
          "text": [
            "/usr/local/lib/python3.7/dist-packages/numpy/core/fromnumeric.py:87: VisibleDeprecationWarning: Creating an ndarray from ragged nested sequences (which is a list-or-tuple of lists-or-tuples-or ndarrays with different lengths or shapes) is deprecated. If you meant to do this, you must specify 'dtype=object' when creating the ndarray\n",
            "  return ufunc.reduce(obj, axis, dtype, out, **passkwargs)\n"
          ]
        }
      ]
    },
    {
      "cell_type": "markdown",
      "metadata": {
        "id": "2c3qWGcMwpD8"
      },
      "source": [
        "## Results"
      ]
    },
    {
      "cell_type": "code",
      "metadata": {
        "colab": {
          "base_uri": "https://localhost:8080/"
        },
        "id": "FIEdSh9TwnUe",
        "outputId": "6eba150e-e4c7-40b0-c3a7-d4ec9c467539"
      },
      "source": [
        "print('Optimal value:', round(res.fun*-1, ndigits=2),\n",
        "      '\\nx values:', list(map(lambda x: round(x, 2), res.x)),\n",
        "      '\\nNumber of iterations performed:', res.nit,\n",
        "      '\\nStatus:', res.message)"
      ],
      "execution_count": 4,
      "outputs": [
        {
          "output_type": "stream",
          "name": "stdout",
          "text": [
            "Optimal value: 36829099122.19 \n",
            "x values: [9788300777.95, 17252497554.65, 13766341529.91, 14928393541.77] \n",
            "Number of iterations performed: 4 \n",
            "Status: The algorithm terminated successfully and determined that the problem is unbounded.\n"
          ]
        }
      ]
    },
    {
      "cell_type": "code",
      "metadata": {
        "id": "q-Uc1O3q53oB"
      },
      "source": [
        ""
      ],
      "execution_count": 4,
      "outputs": []
    }
  ]
}