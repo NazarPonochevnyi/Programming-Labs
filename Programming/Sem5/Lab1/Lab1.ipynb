{
  "nbformat": 4,
  "nbformat_minor": 0,
  "metadata": {
    "colab": {
      "name": "Lab1.ipynb",
      "provenance": []
    },
    "kernelspec": {
      "name": "python3",
      "display_name": "Python 3"
    },
    "language_info": {
      "name": "python"
    }
  },
  "cells": [
    {
      "cell_type": "markdown",
      "metadata": {
        "id": "DLPhaMkKtj7D"
      },
      "source": [
        "## Import modules and data"
      ]
    },
    {
      "cell_type": "code",
      "metadata": {
        "id": "eKRtoOl2jpHL"
      },
      "source": [
        "import numpy as np\n",
        "import pandas as pd\n",
        "from sklearn.linear_model import LinearRegression\n",
        "from sklearn.preprocessing import PolynomialFeatures\n",
        "from sklearn.preprocessing import FunctionTransformer"
      ],
      "execution_count": 1,
      "outputs": []
    },
    {
      "cell_type": "code",
      "metadata": {
        "id": "Q5mFJALLn7lZ"
      },
      "source": [
        "data = np.array([\n",
        "        [0.024, 11.7], \n",
        "        [0.038, 12.7], \n",
        "        [0.04, 15.5], \n",
        "        [0.045, 16.8], \n",
        "        [0.047, 16.7], \n",
        "        [0.0578, 17.5], \n",
        "        [0.0629, 18.5], \n",
        "        [0.0629, 18.7], \n",
        "        [0.063, 18.8], \n",
        "        [0.064, 19.5], \n",
        "        [0.0678, 20.8], \n",
        "        [0.0691, 20.3], \n",
        "        [0.071, 23.3], \n",
        "        [0.0742, 23.2], \n",
        "        [0.077, 24.4], \n",
        "        [0.0779, 28.9], \n",
        "        [0.0781, 25.8], \n",
        "        [0.0787, 29.5], \n",
        "        [0.0789, 23.3], \n",
        "        [0.0791, 22.5], \n",
        "        [0.0862, 26.2], \n",
        "        [0.0867, 29.7], \n",
        "        [0.0877, 33.8], \n",
        "        [0.089, 35], \n",
        "        [0.0897, 32], \n",
        "        [0.096, 40], \n",
        "        [0.098, 41], \n",
        "        [0.099, 43.8]\n",
        "])"
      ],
      "execution_count": 2,
      "outputs": []
    },
    {
      "cell_type": "markdown",
      "metadata": {
        "id": "S85F0XPltn7-"
      },
      "source": [
        "## Preprocess and check data"
      ]
    },
    {
      "cell_type": "code",
      "metadata": {
        "colab": {
          "base_uri": "https://localhost:8080/",
          "height": 223
        },
        "id": "Ema0Fo3On8-0",
        "outputId": "4289faf3-bb42-4af5-f3d2-6d59bbc62bc8"
      },
      "source": [
        "df = pd.DataFrame(data, columns=[\"water\", \"hair\"])\n",
        "x, y = np.array(df[\"water\"]).reshape(-1, 1), np.array(df[\"hair\"])\n",
        "print(f\"Pearson correlation: {round(df.corr().iloc[1, 0], 2)}\")\n",
        "df.head()"
      ],
      "execution_count": 3,
      "outputs": [
        {
          "output_type": "stream",
          "name": "stdout",
          "text": [
            "Pearson correlation: 0.91\n"
          ]
        },
        {
          "output_type": "execute_result",
          "data": {
            "text/html": [
              "<div>\n",
              "<style scoped>\n",
              "    .dataframe tbody tr th:only-of-type {\n",
              "        vertical-align: middle;\n",
              "    }\n",
              "\n",
              "    .dataframe tbody tr th {\n",
              "        vertical-align: top;\n",
              "    }\n",
              "\n",
              "    .dataframe thead th {\n",
              "        text-align: right;\n",
              "    }\n",
              "</style>\n",
              "<table border=\"1\" class=\"dataframe\">\n",
              "  <thead>\n",
              "    <tr style=\"text-align: right;\">\n",
              "      <th></th>\n",
              "      <th>water</th>\n",
              "      <th>hair</th>\n",
              "    </tr>\n",
              "  </thead>\n",
              "  <tbody>\n",
              "    <tr>\n",
              "      <th>0</th>\n",
              "      <td>0.024</td>\n",
              "      <td>11.7</td>\n",
              "    </tr>\n",
              "    <tr>\n",
              "      <th>1</th>\n",
              "      <td>0.038</td>\n",
              "      <td>12.7</td>\n",
              "    </tr>\n",
              "    <tr>\n",
              "      <th>2</th>\n",
              "      <td>0.040</td>\n",
              "      <td>15.5</td>\n",
              "    </tr>\n",
              "    <tr>\n",
              "      <th>3</th>\n",
              "      <td>0.045</td>\n",
              "      <td>16.8</td>\n",
              "    </tr>\n",
              "    <tr>\n",
              "      <th>4</th>\n",
              "      <td>0.047</td>\n",
              "      <td>16.7</td>\n",
              "    </tr>\n",
              "  </tbody>\n",
              "</table>\n",
              "</div>"
            ],
            "text/plain": [
              "   water  hair\n",
              "0  0.024  11.7\n",
              "1  0.038  12.7\n",
              "2  0.040  15.5\n",
              "3  0.045  16.8\n",
              "4  0.047  16.7"
            ]
          },
          "metadata": {},
          "execution_count": 3
        }
      ]
    },
    {
      "cell_type": "markdown",
      "metadata": {
        "id": "PDLgBibDtqtq"
      },
      "source": [
        "## Linear Regression"
      ]
    },
    {
      "cell_type": "code",
      "metadata": {
        "colab": {
          "base_uri": "https://localhost:8080/",
          "height": 240
        },
        "id": "XSsCkNQHopnJ",
        "outputId": "6ffe9150-aa91-48e6-dfeb-520fba771694"
      },
      "source": [
        "model = LinearRegression()\n",
        "model.fit(x, y)\n",
        "lin_sc = round(model.score(x, y), 2)\n",
        "print(f\"Модель: y = {round(model.coef_[0], 2)}*x + {round(model.intercept_, 2)}\")\n",
        "print(f\"Коєфіцієнт детермінації: {lin_sc}\")\n",
        "df.assign(pred_hair=np.round(model.predict(x), 2)).head()"
      ],
      "execution_count": 4,
      "outputs": [
        {
          "output_type": "stream",
          "name": "stdout",
          "text": [
            "Модель: y = 402.19*x + -3.93\n",
            "Коєфіцієнт детермінації: 0.82\n"
          ]
        },
        {
          "output_type": "execute_result",
          "data": {
            "text/html": [
              "<div>\n",
              "<style scoped>\n",
              "    .dataframe tbody tr th:only-of-type {\n",
              "        vertical-align: middle;\n",
              "    }\n",
              "\n",
              "    .dataframe tbody tr th {\n",
              "        vertical-align: top;\n",
              "    }\n",
              "\n",
              "    .dataframe thead th {\n",
              "        text-align: right;\n",
              "    }\n",
              "</style>\n",
              "<table border=\"1\" class=\"dataframe\">\n",
              "  <thead>\n",
              "    <tr style=\"text-align: right;\">\n",
              "      <th></th>\n",
              "      <th>water</th>\n",
              "      <th>hair</th>\n",
              "      <th>pred_hair</th>\n",
              "    </tr>\n",
              "  </thead>\n",
              "  <tbody>\n",
              "    <tr>\n",
              "      <th>0</th>\n",
              "      <td>0.024</td>\n",
              "      <td>11.7</td>\n",
              "      <td>5.73</td>\n",
              "    </tr>\n",
              "    <tr>\n",
              "      <th>1</th>\n",
              "      <td>0.038</td>\n",
              "      <td>12.7</td>\n",
              "      <td>11.36</td>\n",
              "    </tr>\n",
              "    <tr>\n",
              "      <th>2</th>\n",
              "      <td>0.040</td>\n",
              "      <td>15.5</td>\n",
              "      <td>12.16</td>\n",
              "    </tr>\n",
              "    <tr>\n",
              "      <th>3</th>\n",
              "      <td>0.045</td>\n",
              "      <td>16.8</td>\n",
              "      <td>14.17</td>\n",
              "    </tr>\n",
              "    <tr>\n",
              "      <th>4</th>\n",
              "      <td>0.047</td>\n",
              "      <td>16.7</td>\n",
              "      <td>14.98</td>\n",
              "    </tr>\n",
              "  </tbody>\n",
              "</table>\n",
              "</div>"
            ],
            "text/plain": [
              "   water  hair  pred_hair\n",
              "0  0.024  11.7       5.73\n",
              "1  0.038  12.7      11.36\n",
              "2  0.040  15.5      12.16\n",
              "3  0.045  16.8      14.17\n",
              "4  0.047  16.7      14.98"
            ]
          },
          "metadata": {},
          "execution_count": 4
        }
      ]
    },
    {
      "cell_type": "markdown",
      "metadata": {
        "id": "CnWNZrnjxsVz"
      },
      "source": [
        "## Polynomial Regression"
      ]
    },
    {
      "cell_type": "code",
      "metadata": {
        "colab": {
          "base_uri": "https://localhost:8080/",
          "height": 240
        },
        "id": "p934whVJuywk",
        "outputId": "caf39677-9ab8-4e98-81b8-8baec19382f1"
      },
      "source": [
        "x_ = PolynomialFeatures(degree=2, include_bias=False).fit_transform(x)\n",
        "model = LinearRegression().fit(x_, y)\n",
        "p_sc = round(model.score(x_, y), 2)\n",
        "print(f\"Модель: y = {round(model.intercept_, 2)} + ({round(model.coef_[0], 2)}*x) + ({round(model.coef_[1], 2)} * x^2)\")\n",
        "print(f\"Коєфіцієнт детермінації: {p_sc}\")\n",
        "df.assign(pred_hair=np.round(model.predict(x_), 2)).head()"
      ],
      "execution_count": 5,
      "outputs": [
        {
          "output_type": "stream",
          "name": "stdout",
          "text": [
            "Модель: y = 21.92 + (-476.5*x) + (6776.42 * x^2)\n",
            "Коєфіцієнт детермінації: 0.94\n"
          ]
        },
        {
          "output_type": "execute_result",
          "data": {
            "text/html": [
              "<div>\n",
              "<style scoped>\n",
              "    .dataframe tbody tr th:only-of-type {\n",
              "        vertical-align: middle;\n",
              "    }\n",
              "\n",
              "    .dataframe tbody tr th {\n",
              "        vertical-align: top;\n",
              "    }\n",
              "\n",
              "    .dataframe thead th {\n",
              "        text-align: right;\n",
              "    }\n",
              "</style>\n",
              "<table border=\"1\" class=\"dataframe\">\n",
              "  <thead>\n",
              "    <tr style=\"text-align: right;\">\n",
              "      <th></th>\n",
              "      <th>water</th>\n",
              "      <th>hair</th>\n",
              "      <th>pred_hair</th>\n",
              "    </tr>\n",
              "  </thead>\n",
              "  <tbody>\n",
              "    <tr>\n",
              "      <th>0</th>\n",
              "      <td>0.024</td>\n",
              "      <td>11.7</td>\n",
              "      <td>14.38</td>\n",
              "    </tr>\n",
              "    <tr>\n",
              "      <th>1</th>\n",
              "      <td>0.038</td>\n",
              "      <td>12.7</td>\n",
              "      <td>13.59</td>\n",
              "    </tr>\n",
              "    <tr>\n",
              "      <th>2</th>\n",
              "      <td>0.040</td>\n",
              "      <td>15.5</td>\n",
              "      <td>13.70</td>\n",
              "    </tr>\n",
              "    <tr>\n",
              "      <th>3</th>\n",
              "      <td>0.045</td>\n",
              "      <td>16.8</td>\n",
              "      <td>14.20</td>\n",
              "    </tr>\n",
              "    <tr>\n",
              "      <th>4</th>\n",
              "      <td>0.047</td>\n",
              "      <td>16.7</td>\n",
              "      <td>14.49</td>\n",
              "    </tr>\n",
              "  </tbody>\n",
              "</table>\n",
              "</div>"
            ],
            "text/plain": [
              "   water  hair  pred_hair\n",
              "0  0.024  11.7      14.38\n",
              "1  0.038  12.7      13.59\n",
              "2  0.040  15.5      13.70\n",
              "3  0.045  16.8      14.20\n",
              "4  0.047  16.7      14.49"
            ]
          },
          "metadata": {},
          "execution_count": 5
        }
      ]
    },
    {
      "cell_type": "markdown",
      "metadata": {
        "id": "Fz4256xZ0iUy"
      },
      "source": [
        "## Logarithmic Regression"
      ]
    },
    {
      "cell_type": "code",
      "metadata": {
        "colab": {
          "base_uri": "https://localhost:8080/",
          "height": 240
        },
        "id": "fxeBzGaF0sBx",
        "outputId": "49bb6fb9-5161-44d6-87c0-9c4a6d2aa8ae"
      },
      "source": [
        "x_ = FunctionTransformer(np.log, validate=True).fit_transform(x)\n",
        "model = LinearRegression().fit(x_, y)\n",
        "log_sc = round(model.score(x_, y), 2)\n",
        "print(f\"Модель: y = {round(model.intercept_, 2)} + ({round(model.coef_[0], 2)} * ln(x))\")\n",
        "print(f\"Коєфіцієнт детермінації: {log_sc}\")\n",
        "df.assign(pred_hair=np.round(model.predict(x_), 2)).head()"
      ],
      "execution_count": 6,
      "outputs": [
        {
          "output_type": "stream",
          "name": "stdout",
          "text": [
            "Модель: y = 82.09 + (21.36 * ln(x))\n",
            "Коєфіцієнт детермінації: 0.69\n"
          ]
        },
        {
          "output_type": "execute_result",
          "data": {
            "text/html": [
              "<div>\n",
              "<style scoped>\n",
              "    .dataframe tbody tr th:only-of-type {\n",
              "        vertical-align: middle;\n",
              "    }\n",
              "\n",
              "    .dataframe tbody tr th {\n",
              "        vertical-align: top;\n",
              "    }\n",
              "\n",
              "    .dataframe thead th {\n",
              "        text-align: right;\n",
              "    }\n",
              "</style>\n",
              "<table border=\"1\" class=\"dataframe\">\n",
              "  <thead>\n",
              "    <tr style=\"text-align: right;\">\n",
              "      <th></th>\n",
              "      <th>water</th>\n",
              "      <th>hair</th>\n",
              "      <th>pred_hair</th>\n",
              "    </tr>\n",
              "  </thead>\n",
              "  <tbody>\n",
              "    <tr>\n",
              "      <th>0</th>\n",
              "      <td>0.024</td>\n",
              "      <td>11.7</td>\n",
              "      <td>2.42</td>\n",
              "    </tr>\n",
              "    <tr>\n",
              "      <th>1</th>\n",
              "      <td>0.038</td>\n",
              "      <td>12.7</td>\n",
              "      <td>12.24</td>\n",
              "    </tr>\n",
              "    <tr>\n",
              "      <th>2</th>\n",
              "      <td>0.040</td>\n",
              "      <td>15.5</td>\n",
              "      <td>13.33</td>\n",
              "    </tr>\n",
              "    <tr>\n",
              "      <th>3</th>\n",
              "      <td>0.045</td>\n",
              "      <td>16.8</td>\n",
              "      <td>15.85</td>\n",
              "    </tr>\n",
              "    <tr>\n",
              "      <th>4</th>\n",
              "      <td>0.047</td>\n",
              "      <td>16.7</td>\n",
              "      <td>16.78</td>\n",
              "    </tr>\n",
              "  </tbody>\n",
              "</table>\n",
              "</div>"
            ],
            "text/plain": [
              "   water  hair  pred_hair\n",
              "0  0.024  11.7       2.42\n",
              "1  0.038  12.7      12.24\n",
              "2  0.040  15.5      13.33\n",
              "3  0.045  16.8      15.85\n",
              "4  0.047  16.7      16.78"
            ]
          },
          "metadata": {},
          "execution_count": 6
        }
      ]
    },
    {
      "cell_type": "markdown",
      "metadata": {
        "id": "LV3vCT1R0eDZ"
      },
      "source": [
        "## Exponential Regression"
      ]
    },
    {
      "cell_type": "code",
      "metadata": {
        "colab": {
          "base_uri": "https://localhost:8080/",
          "height": 240
        },
        "id": "CwJLz9N30vPX",
        "outputId": "e63e083d-2008-4aef-deb2-1b0077d12cca"
      },
      "source": [
        "y_ = FunctionTransformer(np.log, validate=True).fit_transform(y.reshape(-1, 1))\n",
        "model = LinearRegression().fit(x, y_)\n",
        "e_sc = round(model.score(x, y_), 2)\n",
        "print(f\"Модель: y = {round(np.exp(model.intercept_)[0], 2)} * ({round(np.exp(model.coef_[0])[0], 2)} ^ x)\")\n",
        "print(f\"Коєфіцієнт детермінації: {e_sc}\")\n",
        "df.assign(pred_hair=np.round(np.exp(model.predict(x)), 2)).head()"
      ],
      "execution_count": 7,
      "outputs": [
        {
          "output_type": "stream",
          "name": "stdout",
          "text": [
            "Модель: y = 6.93 * (26023045.47 ^ x)\n",
            "Коєфіцієнт детермінації: 0.92\n"
          ]
        },
        {
          "output_type": "execute_result",
          "data": {
            "text/html": [
              "<div>\n",
              "<style scoped>\n",
              "    .dataframe tbody tr th:only-of-type {\n",
              "        vertical-align: middle;\n",
              "    }\n",
              "\n",
              "    .dataframe tbody tr th {\n",
              "        vertical-align: top;\n",
              "    }\n",
              "\n",
              "    .dataframe thead th {\n",
              "        text-align: right;\n",
              "    }\n",
              "</style>\n",
              "<table border=\"1\" class=\"dataframe\">\n",
              "  <thead>\n",
              "    <tr style=\"text-align: right;\">\n",
              "      <th></th>\n",
              "      <th>water</th>\n",
              "      <th>hair</th>\n",
              "      <th>pred_hair</th>\n",
              "    </tr>\n",
              "  </thead>\n",
              "  <tbody>\n",
              "    <tr>\n",
              "      <th>0</th>\n",
              "      <td>0.024</td>\n",
              "      <td>11.7</td>\n",
              "      <td>10.44</td>\n",
              "    </tr>\n",
              "    <tr>\n",
              "      <th>1</th>\n",
              "      <td>0.038</td>\n",
              "      <td>12.7</td>\n",
              "      <td>13.26</td>\n",
              "    </tr>\n",
              "    <tr>\n",
              "      <th>2</th>\n",
              "      <td>0.040</td>\n",
              "      <td>15.5</td>\n",
              "      <td>13.72</td>\n",
              "    </tr>\n",
              "    <tr>\n",
              "      <th>3</th>\n",
              "      <td>0.045</td>\n",
              "      <td>16.8</td>\n",
              "      <td>14.95</td>\n",
              "    </tr>\n",
              "    <tr>\n",
              "      <th>4</th>\n",
              "      <td>0.047</td>\n",
              "      <td>16.7</td>\n",
              "      <td>15.46</td>\n",
              "    </tr>\n",
              "  </tbody>\n",
              "</table>\n",
              "</div>"
            ],
            "text/plain": [
              "   water  hair  pred_hair\n",
              "0  0.024  11.7      10.44\n",
              "1  0.038  12.7      13.26\n",
              "2  0.040  15.5      13.72\n",
              "3  0.045  16.8      14.95\n",
              "4  0.047  16.7      15.46"
            ]
          },
          "metadata": {},
          "execution_count": 7
        }
      ]
    },
    {
      "cell_type": "markdown",
      "metadata": {
        "id": "7NhwVR9f024K"
      },
      "source": [
        "## Conclusion"
      ]
    },
    {
      "cell_type": "code",
      "metadata": {
        "colab": {
          "base_uri": "https://localhost:8080/",
          "height": 174
        },
        "id": "rQhk58-E05S0",
        "outputId": "7538e929-6ddc-437c-c09e-4a78debe72ea"
      },
      "source": [
        "results = {\"Method\": [\"Linear Regression\", \"Polynomial Regression\", \"Logarithmic Regression\", \"Exponential Regression\"],\n",
        "           \"Coefficient of determination\": [lin_sc, p_sc, log_sc, e_sc]}\n",
        "resdf = pd.DataFrame(results)\n",
        "resdf.sort_values(by=[\"Coefficient of determination\"], ascending=False)"
      ],
      "execution_count": 8,
      "outputs": [
        {
          "output_type": "execute_result",
          "data": {
            "text/html": [
              "<div>\n",
              "<style scoped>\n",
              "    .dataframe tbody tr th:only-of-type {\n",
              "        vertical-align: middle;\n",
              "    }\n",
              "\n",
              "    .dataframe tbody tr th {\n",
              "        vertical-align: top;\n",
              "    }\n",
              "\n",
              "    .dataframe thead th {\n",
              "        text-align: right;\n",
              "    }\n",
              "</style>\n",
              "<table border=\"1\" class=\"dataframe\">\n",
              "  <thead>\n",
              "    <tr style=\"text-align: right;\">\n",
              "      <th></th>\n",
              "      <th>Method</th>\n",
              "      <th>Coefficient of determination</th>\n",
              "    </tr>\n",
              "  </thead>\n",
              "  <tbody>\n",
              "    <tr>\n",
              "      <th>1</th>\n",
              "      <td>Polynomial Regression</td>\n",
              "      <td>0.94</td>\n",
              "    </tr>\n",
              "    <tr>\n",
              "      <th>3</th>\n",
              "      <td>Exponential Regression</td>\n",
              "      <td>0.92</td>\n",
              "    </tr>\n",
              "    <tr>\n",
              "      <th>0</th>\n",
              "      <td>Linear Regression</td>\n",
              "      <td>0.82</td>\n",
              "    </tr>\n",
              "    <tr>\n",
              "      <th>2</th>\n",
              "      <td>Logarithmic Regression</td>\n",
              "      <td>0.69</td>\n",
              "    </tr>\n",
              "  </tbody>\n",
              "</table>\n",
              "</div>"
            ],
            "text/plain": [
              "                   Method  Coefficient of determination\n",
              "1   Polynomial Regression                          0.94\n",
              "3  Exponential Regression                          0.92\n",
              "0       Linear Regression                          0.82\n",
              "2  Logarithmic Regression                          0.69"
            ]
          },
          "metadata": {},
          "execution_count": 8
        }
      ]
    }
  ]
}