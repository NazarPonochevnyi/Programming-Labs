{
  "nbformat": 4,
  "nbformat_minor": 0,
  "metadata": {
    "colab": {
      "name": "decision_methods_lab1.ipynb",
      "provenance": [],
      "collapsed_sections": []
    },
    "kernelspec": {
      "name": "python3",
      "display_name": "Python 3"
    },
    "language_info": {
      "name": "python"
    }
  },
  "cells": [
    {
      "cell_type": "markdown",
      "source": [
        "# Лабораторна робота №1\n",
        "**Тема роботи:** Бінарні відношення\n",
        "\n",
        "**Мета роботи:** вивчення властивостей бінарних відношень, операцій над\n",
        "відношеннями, набуття навичок прийняття рішень на основі заданих\n",
        "відношень.\n",
        "\n",
        "## Порядок виконання роботи\n",
        "1. Вивчити необхідний теоретичний матеріал.\n",
        "2. Скласти програму для визначення властивостей відношення.\n",
        "3. Визначити властивості даного відношення згідно з варіантом\n",
        "індивідуального завдання.\n",
        "4. Скласти звіт про виконання роботи, який повинен містити:\n",
        "  * постановку індивідуального завдання;\n",
        "  * лістинг програми;\n",
        "  * результати роботи програми;\n",
        "  * аналіз отриманих результатів.\n",
        "\n",
        "##Виконав:\n",
        "Студент 3 курсу групи ФІ-92 Поночевний Назар\n",
        "\n",
        "## Завдання:\n",
        "Перевірити, чи буде дане відношення рефлексивним, антирефлексивним,\n",
        "симетричним, антисиметричним, асиметричним, транзитивним. Відшукати\n",
        "для нього найбільший, найменший , максимальний та мінімальний елементи,\n",
        "якщо такі існують, і побудувати обернене й додаткове відношення.\n",
        "\n",
        "## Ваірант №12\n",
        "![image.png](data:image/png;base64,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)\n",
        "\n",
        "## Вирішення:"
      ],
      "metadata": {
        "id": "CqPM9Mww7V3P"
      }
    },
    {
      "cell_type": "code",
      "execution_count": 1,
      "metadata": {
        "colab": {
          "base_uri": "https://localhost:8080/",
          "height": 0
        },
        "id": "kSPFo6kr7I35",
        "outputId": "47c9f318-b7d8-46fd-c829-40f137ed4179"
      },
      "outputs": [
        {
          "output_type": "stream",
          "name": "stdout",
          "text": [
            "Доповнення відношення:\n",
            "[[0 1 1 1 1]\n",
            " [1 1 0 0 1]\n",
            " [0 1 1 0 0]\n",
            " [0 1 0 0 0]\n",
            " [1 1 1 1 1]]\n",
            "\n",
            "Обернене відношення:\n",
            "[[1 0 1 1 0]\n",
            " [0 0 0 0 0]\n",
            " [0 1 0 1 0]\n",
            " [0 1 1 1 0]\n",
            " [0 0 1 1 0]]\n"
          ]
        }
      ],
      "source": [
        "import numpy as np\n",
        "\n",
        "R = np.array([[1, 0, 0, 0, 0],\n",
        "              [0, 0, 1, 1, 0],\n",
        "              [1, 0, 0, 1, 1],\n",
        "              [1, 0, 1, 1, 1],\n",
        "              [0, 0, 0, 0, 0]])\n",
        "\n",
        "print(f\"Доповнення відношення:\\n{-R + 1}\")\n",
        "print(f\"\\nОбернене відношення:\\n{R.T}\")"
      ]
    },
    {
      "cell_type": "code",
      "source": [
        "# Рефлексивність\n",
        "is_reflex = all(R.diagonal())\n",
        "print(\"Рефлексивність:\", is_reflex)"
      ],
      "metadata": {
        "colab": {
          "base_uri": "https://localhost:8080/",
          "height": 0
        },
        "id": "ub2JOGQN9twX",
        "outputId": "3e1989d5-6760-4282-934b-1233b0c11ec2"
      },
      "execution_count": 2,
      "outputs": [
        {
          "output_type": "stream",
          "name": "stdout",
          "text": [
            "Рефлексивність: False\n"
          ]
        }
      ]
    },
    {
      "cell_type": "code",
      "source": [
        "# Антирефлексивність\n",
        "is_antireflex = not any(R.diagonal())\n",
        "print(\"Антирефлексивність:\", is_antireflex)"
      ],
      "metadata": {
        "colab": {
          "base_uri": "https://localhost:8080/",
          "height": 0
        },
        "id": "ymMXdy6u_Abr",
        "outputId": "3eb0cd1f-7173-4831-a2f6-ac8d5c683f88"
      },
      "execution_count": 3,
      "outputs": [
        {
          "output_type": "stream",
          "name": "stdout",
          "text": [
            "Антирефлексивність: False\n"
          ]
        }
      ]
    },
    {
      "cell_type": "code",
      "source": [
        "# Симетричність\n",
        "is_symetric = (R == R.T).all()\n",
        "print(\"Симетричність:\", is_symetric)"
      ],
      "metadata": {
        "colab": {
          "base_uri": "https://localhost:8080/",
          "height": 0
        },
        "id": "z85-bZaIAnhw",
        "outputId": "42d92d46-8808-48ca-c144-2450c58da2ab"
      },
      "execution_count": 4,
      "outputs": [
        {
          "output_type": "stream",
          "name": "stdout",
          "text": [
            "Симетричність: False\n"
          ]
        }
      ]
    },
    {
      "cell_type": "code",
      "source": [
        "# Асиметричність\n",
        "is_asymetric = True\n",
        "for i in range(R.shape[0]):\n",
        "  for j in range(R.shape[1]):\n",
        "    is_asymetric &= R[i, j] & R[j, i] == 0\n",
        "    if not is_asymetric:\n",
        "      break\n",
        "print(\"Асиметричність:\", is_asymetric)"
      ],
      "metadata": {
        "colab": {
          "base_uri": "https://localhost:8080/",
          "height": 0
        },
        "id": "_goE25KFJArj",
        "outputId": "def4aca1-373f-4239-91b5-66341e471f2d"
      },
      "execution_count": 5,
      "outputs": [
        {
          "output_type": "stream",
          "name": "stdout",
          "text": [
            "Асиметричність: False\n"
          ]
        }
      ]
    },
    {
      "cell_type": "code",
      "source": [
        "# Антисиметричність\n",
        "is_antisymetric = True\n",
        "for i in range(R.shape[0]):\n",
        "  for j in range(R.shape[1]):\n",
        "    if R[i, j] & R[j, i] == 0:\n",
        "      if i == j:\n",
        "        is_antisymetric = False\n",
        "        break\n",
        "print(\"Антисиметричність:\", is_antisymetric)"
      ],
      "metadata": {
        "colab": {
          "base_uri": "https://localhost:8080/",
          "height": 0
        },
        "id": "7aKMu99zJEb4",
        "outputId": "9b326b4d-e52e-4111-a0b2-edd7d07052fd"
      },
      "execution_count": 6,
      "outputs": [
        {
          "output_type": "stream",
          "name": "stdout",
          "text": [
            "Антисиметричність: False\n"
          ]
        }
      ]
    },
    {
      "cell_type": "code",
      "source": [
        "# Транзитивність\n",
        "R2 = R.dot(R)\n",
        "print(R2)\n",
        "is_transitive = True\n",
        "for i in range(R.shape[0]):\n",
        "  for j in range(R.shape[1]):\n",
        "    if R2[i, j] > R[i, j]:\n",
        "      is_transitive = False\n",
        "      break\n",
        "print(\"Транзитивність:\", is_transitive)"
      ],
      "metadata": {
        "colab": {
          "base_uri": "https://localhost:8080/",
          "height": 0
        },
        "id": "4vWJCW1XZFKs",
        "outputId": "aab12790-6cbb-4f67-a4c1-0a4e389c48a0"
      },
      "execution_count": 7,
      "outputs": [
        {
          "output_type": "stream",
          "name": "stdout",
          "text": [
            "[[1 0 0 0 0]\n",
            " [2 0 1 2 2]\n",
            " [2 0 1 1 1]\n",
            " [3 0 1 2 2]\n",
            " [0 0 0 0 0]]\n",
            "Транзитивність: False\n"
          ]
        }
      ]
    },
    {
      "cell_type": "code",
      "source": [
        "# Найбільший, найменший, максимальний та мінімальний елементи\n",
        "\n",
        "greater = []\n",
        "for i in range(R.shape[0]):\n",
        "  if all(R[i, :]):\n",
        "    greater.append(i + 1)\n",
        "print(\"Найбільші:\", greater)\n",
        "\n",
        "smaller = []\n",
        "for i in range(R.shape[1]):\n",
        "  if all(R[:, i]):\n",
        "    smaller.append(i + 1)\n",
        "print(\"\\nНайменші:\", smaller)\n",
        "\n",
        "strict_R = np.copy(R)\n",
        "for i in range(strict_R.shape[0]):\n",
        "  for j in range(strict_R.shape[1]):\n",
        "    if strict_R[i, j] and strict_R[i, j] == strict_R[j, i]:\n",
        "      strict_R[j, i] = 0\n",
        "print(f\"\\nСтроге відношення:\\n{strict_R}\")\n",
        "\n",
        "maxs = []\n",
        "for i in range(R.shape[1]):\n",
        "  if all((-strict_R + 1)[:, i]):\n",
        "    maxs.append(i + 1)\n",
        "print(\"\\nМаксимальні:\", maxs)\n",
        "\n",
        "mins = []\n",
        "for i in range(R.shape[0]):\n",
        "  if all((-strict_R + 1)[i, :]):\n",
        "    mins.append(i + 1)\n",
        "print(\"\\nМінімальні:\", mins)"
      ],
      "metadata": {
        "colab": {
          "base_uri": "https://localhost:8080/",
          "height": 0
        },
        "id": "dsbEg1eScwco",
        "outputId": "fd28547a-4a94-4afb-d651-7b4787e04404"
      },
      "execution_count": 8,
      "outputs": [
        {
          "output_type": "stream",
          "name": "stdout",
          "text": [
            "Найбільші: []\n",
            "\n",
            "Найменші: []\n",
            "\n",
            "Строге відношення:\n",
            "[[0 0 0 0 0]\n",
            " [0 0 1 1 0]\n",
            " [1 0 0 1 1]\n",
            " [1 0 0 0 1]\n",
            " [0 0 0 0 0]]\n",
            "\n",
            "Максимальні: [2]\n",
            "\n",
            "Мінімальні: [1, 5]\n"
          ]
        }
      ]
    },
    {
      "cell_type": "code",
      "source": [
        ""
      ],
      "metadata": {
        "id": "adsdrBpr9vNl"
      },
      "execution_count": 8,
      "outputs": []
    }
  ]
}