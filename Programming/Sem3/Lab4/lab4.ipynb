{
 "cells": [
  {
   "cell_type": "markdown",
   "metadata": {},
   "source": [
    "# Lab4"
   ]
  },
  {
   "cell_type": "markdown",
   "metadata": {},
   "source": [
    "## Download data"
   ]
  },
  {
   "cell_type": "code",
   "execution_count": 1,
   "metadata": {},
   "outputs": [],
   "source": [
    "import os\n",
    "import shlex\n",
    "import subprocess\n",
    "\n",
    "data_folder = './'\n",
    "\n",
    "process = subprocess.run([\"unzip.bat\"], \n",
    "                     stdout=subprocess.PIPE, \n",
    "                     universal_newlines=True)\n",
    "\n",
    "dirs = ['S2A_MSIL2A_20190821T085601_N0213_R007_T36UUA_20190821T115206.SAFE', 'S2A_MSIL2A_20190821T085601_N0213_R007_T36UUB_20190821T115206.SAFE']\n",
    "img_folders = [\"D:\\MyPython3\\Programming-Labs\\Programming\\Sem3\\Lab4\\S2A_MSIL2A_20190821T085601_N0213_R007_T36UUA_20190821T115206.SAFE\\GRANULE\\L2A_T36UUA_A021740_20190821T085815\\IMG_DATA\", \"D:\\MyPython3\\Programming-Labs\\Programming\\Sem3\\Lab4\\S2A_MSIL2A_20190821T085601_N0213_R007_T36UUB_20190821T115206.SAFE\\GRANULE\\L2A_T36UUB_A021740_20190821T085815\\IMG_DATA\"]\n",
    "landsat_images_folders = [\"D:\\MyPython3\\Programming-Labs\\Programming\\Sem3\\Lab4\\LC08_L1TP_182025_20190830_20190903_01_T1\", \"D:\\MyPython3\\Programming-Labs\\Programming\\Sem3\\Lab4\\LC08_L1TP_181025_20190924_20191017_01_T1\"]"
   ]
  },
  {
   "cell_type": "markdown",
   "metadata": {},
   "source": [
    "## Sentinel-2"
   ]
  },
  {
   "cell_type": "markdown",
   "metadata": {},
   "source": [
    "## Transfer data to geotiff format"
   ]
  },
  {
   "cell_type": "code",
   "execution_count": 2,
   "metadata": {},
   "outputs": [
    {
     "name": "stdout",
     "output_type": "stream",
     "text": [
      "File 'T36UUA_20190821T085601_AOT_10m.jp2' wasn't converted.\n",
      "File 'T36UUA_20190821T085601_B02_10m.jp2' wasn't converted.\n",
      "File 'T36UUA_20190821T085601_B03_10m.jp2' wasn't converted.\n",
      "File 'T36UUA_20190821T085601_B04_10m.jp2' wasn't converted.\n",
      "File 'T36UUA_20190821T085601_B08_10m.jp2' wasn't converted.\n",
      "File 'T36UUA_20190821T085601_TCI_10m.jp2' wasn't converted.\n",
      "File 'T36UUA_20190821T085601_WVP_10m.jp2' wasn't converted.\n",
      "File 'T36UUB_20190821T085601_AOT_10m.jp2' wasn't converted.\n",
      "File 'T36UUB_20190821T085601_B02_10m.jp2' wasn't converted.\n",
      "File 'T36UUB_20190821T085601_B03_10m.jp2' wasn't converted.\n",
      "File 'T36UUB_20190821T085601_B04_10m.jp2' wasn't converted.\n",
      "File 'T36UUB_20190821T085601_B08_10m.jp2' wasn't converted.\n",
      "File 'T36UUB_20190821T085601_TCI_10m.jp2' wasn't converted.\n",
      "File 'T36UUB_20190821T085601_WVP_10m.jp2' wasn't converted.\n"
     ]
    }
   ],
   "source": [
    "image_size = 'R10m'\n",
    "transfer = False\n",
    "\n",
    "images_folders, imgs_pathes = [], []\n",
    "for img_folder in img_folders:\n",
    "    images_folder = os.path.join(img_folder, image_size)\n",
    "    images_folders.append(images_folder)\n",
    "    old_imgs_path = os.listdir(images_folder)\n",
    "    if transfer:\n",
    "        imgs_path = []\n",
    "        for old_path in old_imgs_path:\n",
    "            name, ext = os.path.splitext(old_path)\n",
    "            if ext == '.jp2':\n",
    "                path = name + '.tif'\n",
    "                if path not in old_imgs_path:\n",
    "                    command = ['gdal_translate', os.path.join(images_folder, old_path), os.path.join(images_folder, path)]\n",
    "                    process = subprocess.run(command, \n",
    "                                         stdout=subprocess.PIPE, \n",
    "                                         universal_newlines=True)\n",
    "                    print(f\"File '{old_path}' converted to '{path}' file.\")\n",
    "                else:\n",
    "                    print(f\"File '{old_path}' already converted.\")\n",
    "                imgs_path.append(path)\n",
    "    else:\n",
    "        imgs_path = old_imgs_path\n",
    "        for path in imgs_path: print(f\"File '{path}' wasn't converted.\")\n",
    "    imgs_pathes.append(imgs_path)"
   ]
  },
  {
   "cell_type": "markdown",
   "metadata": {},
   "source": [
    "## Merge channels"
   ]
  },
  {
   "cell_type": "code",
   "execution_count": 3,
   "metadata": {
    "scrolled": false
   },
   "outputs": [
    {
     "name": "stdout",
     "output_type": "stream",
     "text": [
      "0...10...20...30...40...50...60...70...80...90...100 - done.\n",
      "\n",
      "Channels 'B04, B03, B02, B08' merged into 'output.tif' file.\n",
      "D:\\Python36\\python.exe D:\\Python36\\Scripts\\gdal_merge.py –o D:\\MyPython3\\Programming-Labs\\Programming\\Sem3\\Lab4\\S2A_MSIL2A_20190821T085601_N0213_R007_T36UUA_20190821T115206.SAFE\\GRANULE\\L2A_T36UUA_A021740_20190821T085815\\IMG_DATA\\R10m\\output.tif -separate D:\\MyPython3\\Programming-Labs\\Programming\\Sem3\\Lab4\\S2A_MSIL2A_20190821T085601_N0213_R007_T36UUA_20190821T115206.SAFE\\GRANULE\\L2A_T36UUA_A021740_20190821T085815\\IMG_DATA\\R10m\\T36UUA_20190821T085601_B02_10m.jp2 D:\\MyPython3\\Programming-Labs\\Programming\\Sem3\\Lab4\\S2A_MSIL2A_20190821T085601_N0213_R007_T36UUA_20190821T115206.SAFE\\GRANULE\\L2A_T36UUA_A021740_20190821T085815\\IMG_DATA\\R10m\\T36UUA_20190821T085601_B03_10m.jp2 D:\\MyPython3\\Programming-Labs\\Programming\\Sem3\\Lab4\\S2A_MSIL2A_20190821T085601_N0213_R007_T36UUA_20190821T115206.SAFE\\GRANULE\\L2A_T36UUA_A021740_20190821T085815\\IMG_DATA\\R10m\\T36UUA_20190821T085601_B04_10m.jp2 D:\\MyPython3\\Programming-Labs\\Programming\\Sem3\\Lab4\\S2A_MSIL2A_20190821T085601_N0213_R007_T36UUA_20190821T115206.SAFE\\GRANULE\\L2A_T36UUA_A021740_20190821T085815\\IMG_DATA\\R10m\\T36UUA_20190821T085601_B08_10m.jp2\n",
      "\n",
      "0...10...20...30...40...50...60...70...80...90...100 - done.\n",
      "\n",
      "Channels 'B04, B03, B02, B08' merged into 'output.tif' file.\n",
      "D:\\Python36\\python.exe D:\\Python36\\Scripts\\gdal_merge.py –o D:\\MyPython3\\Programming-Labs\\Programming\\Sem3\\Lab4\\S2A_MSIL2A_20190821T085601_N0213_R007_T36UUB_20190821T115206.SAFE\\GRANULE\\L2A_T36UUB_A021740_20190821T085815\\IMG_DATA\\R10m\\output.tif -separate D:\\MyPython3\\Programming-Labs\\Programming\\Sem3\\Lab4\\S2A_MSIL2A_20190821T085601_N0213_R007_T36UUB_20190821T115206.SAFE\\GRANULE\\L2A_T36UUB_A021740_20190821T085815\\IMG_DATA\\R10m\\T36UUB_20190821T085601_B02_10m.jp2 D:\\MyPython3\\Programming-Labs\\Programming\\Sem3\\Lab4\\S2A_MSIL2A_20190821T085601_N0213_R007_T36UUB_20190821T115206.SAFE\\GRANULE\\L2A_T36UUB_A021740_20190821T085815\\IMG_DATA\\R10m\\T36UUB_20190821T085601_B03_10m.jp2 D:\\MyPython3\\Programming-Labs\\Programming\\Sem3\\Lab4\\S2A_MSIL2A_20190821T085601_N0213_R007_T36UUB_20190821T115206.SAFE\\GRANULE\\L2A_T36UUB_A021740_20190821T085815\\IMG_DATA\\R10m\\T36UUB_20190821T085601_B04_10m.jp2 D:\\MyPython3\\Programming-Labs\\Programming\\Sem3\\Lab4\\S2A_MSIL2A_20190821T085601_N0213_R007_T36UUB_20190821T115206.SAFE\\GRANULE\\L2A_T36UUB_A021740_20190821T085815\\IMG_DATA\\R10m\\T36UUB_20190821T085601_B08_10m.jp2\n",
      "\n"
     ]
    }
   ],
   "source": [
    "channels = ['B04', 'B03', 'B02', 'B08']\n",
    "output_name = 'output.tif'\n",
    "\n",
    "python_path = r'D:\\Python36\\python.exe'\n",
    "gdal_modules_path = r'D:\\Python36\\Scripts'\n",
    "\n",
    "output_pathes = []\n",
    "for i, images_folder in enumerate(images_folders):\n",
    "    output_path = os.path.join(images_folder, output_name)\n",
    "    if output_name in os.listdir(images_folder):\n",
    "        os.remove(output_path)\n",
    "        print(f\"Old '{output_name}' file was deleted.\")\n",
    "\n",
    "    imgs_path = imgs_pathes[i]\n",
    "    selected_imgs = [os.path.join(images_folder, path) for path in imgs_path if path.split('_')[2] in channels]\n",
    "    command = [python_path, os.path.join(gdal_modules_path, 'gdal_merge.py'), '–o', output_path, '-separate'] + selected_imgs\n",
    "    process = subprocess.run(command, \n",
    "                         stdout=subprocess.PIPE, \n",
    "                         universal_newlines=True)\n",
    "    output_pathes.append(output_path)\n",
    "    print(process.stdout)\n",
    "    print(f\"Channels '{', '.join(channels)}' merged into '{output_name}' file.\")\n",
    "    print(' '.join(command))\n",
    "    print()"
   ]
  },
  {
   "cell_type": "markdown",
   "metadata": {},
   "source": [
    "## Change projection"
   ]
  },
  {
   "cell_type": "code",
   "execution_count": 4,
   "metadata": {},
   "outputs": [
    {
     "name": "stdout",
     "output_type": "stream",
     "text": [
      "Creating output file that is 13257P x 8536L.\n",
      "Processing D:\\MyPython3\\Programming-Labs\\Programming\\Sem3\\Lab4\\S2A_MSIL2A_20190821T085601_N0213_R007_T36UUA_20190821T115206.SAFE\\GRANULE\\L2A_T36UUA_A021740_20190821T085815\\IMG_DATA\\R10m\\output.tif [1/1] : 0...10...20...30...40...50...60...70...80...90...100 - done.\n",
      "\n",
      "Projection of 'output.tif' file changed to 4326 and saved into 'output_4326.tif' file.\n",
      "gdalwarp -t_srs EPSG:4326 D:\\MyPython3\\Programming-Labs\\Programming\\Sem3\\Lab4\\S2A_MSIL2A_20190821T085601_N0213_R007_T36UUA_20190821T115206.SAFE\\GRANULE\\L2A_T36UUA_A021740_20190821T085815\\IMG_DATA\\R10m\\output.tif D:\\MyPython3\\Programming-Labs\\Programming\\Sem3\\Lab4\\S2A_MSIL2A_20190821T085601_N0213_R007_T36UUA_20190821T115206.SAFE\\GRANULE\\L2A_T36UUA_A021740_20190821T085815\\IMG_DATA\\R10m\\output_4326.tif\n",
      "\n",
      "Creating output file that is 13331P x 8421L.\n",
      "Processing D:\\MyPython3\\Programming-Labs\\Programming\\Sem3\\Lab4\\S2A_MSIL2A_20190821T085601_N0213_R007_T36UUB_20190821T115206.SAFE\\GRANULE\\L2A_T36UUB_A021740_20190821T085815\\IMG_DATA\\R10m\\output.tif [1/1] : 0...10...20...30...40...50...60...70...80...90...100 - done.\n",
      "\n",
      "Projection of 'output.tif' file changed to 4326 and saved into 'output_4326.tif' file.\n",
      "gdalwarp -t_srs EPSG:4326 D:\\MyPython3\\Programming-Labs\\Programming\\Sem3\\Lab4\\S2A_MSIL2A_20190821T085601_N0213_R007_T36UUB_20190821T115206.SAFE\\GRANULE\\L2A_T36UUB_A021740_20190821T085815\\IMG_DATA\\R10m\\output.tif D:\\MyPython3\\Programming-Labs\\Programming\\Sem3\\Lab4\\S2A_MSIL2A_20190821T085601_N0213_R007_T36UUB_20190821T115206.SAFE\\GRANULE\\L2A_T36UUB_A021740_20190821T085815\\IMG_DATA\\R10m\\output_4326.tif\n",
      "\n"
     ]
    }
   ],
   "source": [
    "output_4326_name = 'output_4326.tif'\n",
    "\n",
    "output_4326_pathes = []\n",
    "for i, images_folder in enumerate(images_folders):\n",
    "    output_4326_path = os.path.join(images_folder, output_4326_name)\n",
    "    if output_4326_name in os.listdir(images_folder):\n",
    "        os.remove(output_4326_path)\n",
    "        print(f\"Old '{output_4326_name}' file was deleted.\")\n",
    "\n",
    "    output_path = output_pathes[i]\n",
    "    command = [\"gdalwarp\", \"-t_srs\", \"EPSG:4326\", output_path, output_4326_path]\n",
    "    process = subprocess.run(command, \n",
    "                         stdout=subprocess.PIPE, \n",
    "                         universal_newlines=True)\n",
    "    output_4326_pathes.append(output_4326_path)\n",
    "    print(process.stdout)\n",
    "    print(f\"Projection of '{output_name}' file changed to 4326 and saved into '{output_4326_name}' file.\")\n",
    "    print(' '.join(command))\n",
    "    print()"
   ]
  },
  {
   "cell_type": "markdown",
   "metadata": {},
   "source": [
    "## Concatenate images"
   ]
  },
  {
   "cell_type": "code",
   "execution_count": 5,
   "metadata": {},
   "outputs": [
    {
     "name": "stdout",
     "output_type": "stream",
     "text": [
      "Creating output file that is 13720P x 16104L.\n",
      "Processing D:\\MyPython3\\Programming-Labs\\Programming\\Sem3\\Lab4\\S2A_MSIL2A_20190821T085601_N0213_R007_T36UUA_20190821T115206.SAFE\\GRANULE\\L2A_T36UUA_A021740_20190821T085815\\IMG_DATA\\R10m\\output_4326.tif [1/2] : 0...10...20...30...40...50...60...70...80...90...100 - done.\n",
      "Processing D:\\MyPython3\\Programming-Labs\\Programming\\Sem3\\Lab4\\S2A_MSIL2A_20190821T085601_N0213_R007_T36UUB_20190821T115206.SAFE\\GRANULE\\L2A_T36UUB_A021740_20190821T085815\\IMG_DATA\\R10m\\output_4326.tif [2/2] : 0...10...20...30...40...50...60...70...80...90...100 - done.\n",
      "\n",
      "Images concatenated into 'concatenate_output_4326.tif' file.\n",
      "gdalwarp -of GTIFF -ot Uint16 -srcnodata 0 -dstnodata 0 D:\\MyPython3\\Programming-Labs\\Programming\\Sem3\\Lab4\\S2A_MSIL2A_20190821T085601_N0213_R007_T36UUA_20190821T115206.SAFE\\GRANULE\\L2A_T36UUA_A021740_20190821T085815\\IMG_DATA\\R10m\\output_4326.tif D:\\MyPython3\\Programming-Labs\\Programming\\Sem3\\Lab4\\S2A_MSIL2A_20190821T085601_N0213_R007_T36UUB_20190821T115206.SAFE\\GRANULE\\L2A_T36UUB_A021740_20190821T085815\\IMG_DATA\\R10m\\output_4326.tif ./concatenate_output_4326.tif\n"
     ]
    }
   ],
   "source": [
    "concatenate_output_4326_name = \"concatenate_output_4326.tif\"\n",
    "\n",
    "concatenate_output_4326_path = os.path.join(data_folder, concatenate_output_4326_name)\n",
    "if concatenate_output_4326_name in os.listdir(data_folder):\n",
    "    os.remove(concatenate_output_4326_path)\n",
    "    print(f\"Old '{concatenate_output_4326_name}' file was deleted.\")\n",
    "\n",
    "command = shlex.split(\"gdalwarp -of GTIFF -ot Uint16 -srcnodata 0 -dstnodata 0\")+output_4326_pathes+[concatenate_output_4326_path]\n",
    "process = subprocess.run(command, \n",
    "                     stdout=subprocess.PIPE, \n",
    "                     universal_newlines=True)\n",
    "\n",
    "print(process.stdout)\n",
    "print(f\"Images concatenated into '{concatenate_output_4326_name}' file.\")\n",
    "print(' '.join(command))"
   ]
  },
  {
   "cell_type": "markdown",
   "metadata": {},
   "source": [
    "## Crop image by vector contour"
   ]
  },
  {
   "cell_type": "code",
   "execution_count": 6,
   "metadata": {},
   "outputs": [
    {
     "name": "stdout",
     "output_type": "stream",
     "text": [
      "\n",
      "Image crop by vector contour './MyShapeFile/MyShapeFile.shp' into 'trim_concatenate_output_4326.tif' file.\n",
      "gdalwarp -dstnodata 0 -q -cutline ./MyShapeFile/MyShapeFile.shp -crop_to_cutline -of GTiff ./concatenate_output_4326.tif ./trim_concatenate_output_4326.tif\n"
     ]
    }
   ],
   "source": [
    "shapefile_path = './MyShapeFile/MyShapeFile.shp'\n",
    "trim_concatenate_output_4326_name = 'trim_concatenate_output_4326.tif'\n",
    "\n",
    "trim_concatenate_output_4326_path = os.path.join(data_folder, trim_concatenate_output_4326_name)\n",
    "if trim_concatenate_output_4326_name in os.listdir(data_folder):\n",
    "    os.remove(trim_concatenate_output_4326_path)\n",
    "    print(f\"Old '{trim_concatenate_output_4326_name}' file was deleted.\")\n",
    "\n",
    "command = shlex.split(\"gdalwarp -dstnodata 0 -q -cutline\")+[shapefile_path]+shlex.split(\"-crop_to_cutline -of GTiff\")+[concatenate_output_4326_path, trim_concatenate_output_4326_path]\n",
    "process = subprocess.run(command, \n",
    "                     stdout=subprocess.PIPE, \n",
    "                     universal_newlines=True)\n",
    "\n",
    "print(process.stdout)\n",
    "print(f\"Image crop by vector contour '{shapefile_path}' into '{trim_concatenate_output_4326_name}' file.\")\n",
    "print(' '.join(command))"
   ]
  },
  {
   "cell_type": "markdown",
   "metadata": {},
   "source": [
    "## Landsat-8"
   ]
  },
  {
   "cell_type": "markdown",
   "metadata": {},
   "source": [
    "## Merge channels"
   ]
  },
  {
   "cell_type": "code",
   "execution_count": 7,
   "metadata": {
    "scrolled": false
   },
   "outputs": [
    {
     "name": "stdout",
     "output_type": "stream",
     "text": [
      "File 'LC08_L1TP_182025_20190830_20190903_01_T1_ANG.txt' found.\n",
      "File 'LC08_L1TP_182025_20190830_20190903_01_T1_B1.TIF' found.\n",
      "File 'LC08_L1TP_182025_20190830_20190903_01_T1_B10.TIF' found.\n",
      "File 'LC08_L1TP_182025_20190830_20190903_01_T1_B11.TIF' found.\n",
      "File 'LC08_L1TP_182025_20190830_20190903_01_T1_B2.TIF' found.\n",
      "File 'LC08_L1TP_182025_20190830_20190903_01_T1_B3.TIF' found.\n",
      "File 'LC08_L1TP_182025_20190830_20190903_01_T1_B4.TIF' found.\n",
      "File 'LC08_L1TP_182025_20190830_20190903_01_T1_B5.TIF' found.\n",
      "File 'LC08_L1TP_182025_20190830_20190903_01_T1_B6.TIF' found.\n",
      "File 'LC08_L1TP_182025_20190830_20190903_01_T1_B7.TIF' found.\n",
      "File 'LC08_L1TP_182025_20190830_20190903_01_T1_B8.TIF' found.\n",
      "File 'LC08_L1TP_182025_20190830_20190903_01_T1_B9.TIF' found.\n",
      "File 'LC08_L1TP_182025_20190830_20190903_01_T1_BQA.TIF' found.\n",
      "File 'LC08_L1TP_182025_20190830_20190903_01_T1_MTL.txt' found.\n",
      "File 'LC08_L1TP_181025_20190924_20191017_01_T1_ANG.txt' found.\n",
      "File 'LC08_L1TP_181025_20190924_20191017_01_T1_B1.TIF' found.\n",
      "File 'LC08_L1TP_181025_20190924_20191017_01_T1_B10.TIF' found.\n",
      "File 'LC08_L1TP_181025_20190924_20191017_01_T1_B11.TIF' found.\n",
      "File 'LC08_L1TP_181025_20190924_20191017_01_T1_B2.TIF' found.\n",
      "File 'LC08_L1TP_181025_20190924_20191017_01_T1_B3.TIF' found.\n",
      "File 'LC08_L1TP_181025_20190924_20191017_01_T1_B4.TIF' found.\n",
      "File 'LC08_L1TP_181025_20190924_20191017_01_T1_B5.TIF' found.\n",
      "File 'LC08_L1TP_181025_20190924_20191017_01_T1_B6.TIF' found.\n",
      "File 'LC08_L1TP_181025_20190924_20191017_01_T1_B7.TIF' found.\n",
      "File 'LC08_L1TP_181025_20190924_20191017_01_T1_B8.TIF' found.\n",
      "File 'LC08_L1TP_181025_20190924_20191017_01_T1_B9.TIF' found.\n",
      "File 'LC08_L1TP_181025_20190924_20191017_01_T1_BQA.TIF' found.\n",
      "File 'LC08_L1TP_181025_20190924_20191017_01_T1_MTL.txt' found.\n",
      "0...10...20...30...40...50...60...70...80...90...100 - done.\n",
      "\n",
      "Channels 'B4, B3, B2' merged into 'output.tif' file.\n",
      "D:\\Python36\\python.exe D:\\Python36\\Scripts\\gdal_merge.py –o D:\\MyPython3\\Programming-Labs\\Programming\\Sem3\\Lab4\\LC08_L1TP_182025_20190830_20190903_01_T1\\output.tif -separate D:\\MyPython3\\Programming-Labs\\Programming\\Sem3\\Lab4\\LC08_L1TP_182025_20190830_20190903_01_T1\\LC08_L1TP_182025_20190830_20190903_01_T1_B2.TIF D:\\MyPython3\\Programming-Labs\\Programming\\Sem3\\Lab4\\LC08_L1TP_182025_20190830_20190903_01_T1\\LC08_L1TP_182025_20190830_20190903_01_T1_B3.TIF D:\\MyPython3\\Programming-Labs\\Programming\\Sem3\\Lab4\\LC08_L1TP_182025_20190830_20190903_01_T1\\LC08_L1TP_182025_20190830_20190903_01_T1_B4.TIF\n",
      "\n",
      "0...10...20...30...40...50...60...70...80...90...100 - done.\n",
      "\n",
      "Channels 'B4, B3, B2' merged into 'output.tif' file.\n",
      "D:\\Python36\\python.exe D:\\Python36\\Scripts\\gdal_merge.py –o D:\\MyPython3\\Programming-Labs\\Programming\\Sem3\\Lab4\\LC08_L1TP_181025_20190924_20191017_01_T1\\output.tif -separate D:\\MyPython3\\Programming-Labs\\Programming\\Sem3\\Lab4\\LC08_L1TP_181025_20190924_20191017_01_T1\\LC08_L1TP_181025_20190924_20191017_01_T1_B2.TIF D:\\MyPython3\\Programming-Labs\\Programming\\Sem3\\Lab4\\LC08_L1TP_181025_20190924_20191017_01_T1\\LC08_L1TP_181025_20190924_20191017_01_T1_B3.TIF D:\\MyPython3\\Programming-Labs\\Programming\\Sem3\\Lab4\\LC08_L1TP_181025_20190924_20191017_01_T1\\LC08_L1TP_181025_20190924_20191017_01_T1_B4.TIF\n",
      "\n"
     ]
    }
   ],
   "source": [
    "channels = ['B4', 'B3', 'B2']\n",
    "pan_channel = 'B8'\n",
    "output_name = 'output.tif'\n",
    "\n",
    "images_folders, imgs_pathes = landsat_images_folders, []\n",
    "for images_folder in images_folders:\n",
    "    imgs_path = os.listdir(images_folder)\n",
    "    for path in imgs_path: print(f\"File '{path}' found.\")\n",
    "    imgs_pathes.append(imgs_path)\n",
    "\n",
    "python_path = r'D:\\Python36\\python.exe'\n",
    "gdal_modules_path = r'D:\\Python36\\Scripts'\n",
    "\n",
    "output_pathes, pan_pathes = [], []\n",
    "for i, images_folder in enumerate(images_folders):\n",
    "    output_path = os.path.join(images_folder, output_name)\n",
    "    if output_name in os.listdir(images_folder):\n",
    "        os.remove(output_path)\n",
    "        print(f\"Old '{output_name}' file was deleted.\")\n",
    "\n",
    "    imgs_path = imgs_pathes[i]\n",
    "    selected_imgs = [os.path.join(images_folder, path) for path in imgs_path if path.split('_')[7].replace('.TIF', '') in channels]\n",
    "    command = [python_path, os.path.join(gdal_modules_path, 'gdal_merge.py'), '–o', output_path, '-separate'] + selected_imgs\n",
    "    process = subprocess.run(command, \n",
    "                         stdout=subprocess.PIPE, \n",
    "                         universal_newlines=True)\n",
    "    output_pathes.append(output_path)\n",
    "    pan_image = [os.path.join(images_folder, path) for path in imgs_path if path.split('_')[7].replace('.TIF', '') == pan_channel]\n",
    "    pan_pathes += pan_image\n",
    "    print(process.stdout)\n",
    "    print(f\"Channels '{', '.join(channels)}' merged into '{output_name}' file.\")\n",
    "    print(' '.join(command))\n",
    "    print()"
   ]
  },
  {
   "cell_type": "markdown",
   "metadata": {},
   "source": [
    "## Change resolution"
   ]
  },
  {
   "cell_type": "code",
   "execution_count": 8,
   "metadata": {},
   "outputs": [
    {
     "name": "stdout",
     "output_type": "stream",
     "text": [
      "Creating output file that is 3881P x 3931L.\n",
      "Processing D:\\MyPython3\\Programming-Labs\\Programming\\Sem3\\Lab4\\LC08_L1TP_182025_20190830_20190903_01_T1\\output.tif [1/1] : 0...10...20...30...40...50...60...70...80...90...100 - done.\n",
      "\n",
      "Resolution of 'D:\\MyPython3\\Programming-Labs\\Programming\\Sem3\\Lab4\\LC08_L1TP_182025_20190830_20190903_01_T1\\output.tif' file changed from 30 to 60 and saved into 'output_60.tif' file.\n",
      "gdalwarp -tr 60 60 D:\\MyPython3\\Programming-Labs\\Programming\\Sem3\\Lab4\\LC08_L1TP_182025_20190830_20190903_01_T1\\output.tif D:\\MyPython3\\Programming-Labs\\Programming\\Sem3\\Lab4\\LC08_L1TP_182025_20190830_20190903_01_T1\\output_60.tif\n",
      "\n",
      "Creating output file that is 7761P x 7861L.\n",
      "Processing D:\\MyPython3\\Programming-Labs\\Programming\\Sem3\\Lab4\\LC08_L1TP_182025_20190830_20190903_01_T1\\LC08_L1TP_182025_20190830_20190903_01_T1_B8.TIF [1/1] : 0...10...20...30...40...50...60...70...80...90...100 - done.\n",
      "\n",
      "Resolution of 'D:\\MyPython3\\Programming-Labs\\Programming\\Sem3\\Lab4\\LC08_L1TP_182025_20190830_20190903_01_T1\\LC08_L1TP_182025_20190830_20190903_01_T1_B8.TIF' file changed from 15 to 30 and saved into 'pan_30.tif' file.\n",
      "gdalwarp -tr 30 30 D:\\MyPython3\\Programming-Labs\\Programming\\Sem3\\Lab4\\LC08_L1TP_182025_20190830_20190903_01_T1\\LC08_L1TP_182025_20190830_20190903_01_T1_B8.TIF D:\\MyPython3\\Programming-Labs\\Programming\\Sem3\\Lab4\\LC08_L1TP_182025_20190830_20190903_01_T1\\pan_30.tif\n",
      "\n",
      "Creating output file that is 4021P x 4066L.\n",
      "Processing D:\\MyPython3\\Programming-Labs\\Programming\\Sem3\\Lab4\\LC08_L1TP_181025_20190924_20191017_01_T1\\output.tif [1/1] : 0...10...20...30...40...50...60...70...80...90...100 - done.\n",
      "\n",
      "Resolution of 'D:\\MyPython3\\Programming-Labs\\Programming\\Sem3\\Lab4\\LC08_L1TP_181025_20190924_20191017_01_T1\\output.tif' file changed from 30 to 60 and saved into 'output_60.tif' file.\n",
      "gdalwarp -tr 60 60 D:\\MyPython3\\Programming-Labs\\Programming\\Sem3\\Lab4\\LC08_L1TP_181025_20190924_20191017_01_T1\\output.tif D:\\MyPython3\\Programming-Labs\\Programming\\Sem3\\Lab4\\LC08_L1TP_181025_20190924_20191017_01_T1\\output_60.tif\n",
      "\n",
      "Creating output file that is 8041P x 8131L.\n",
      "Processing D:\\MyPython3\\Programming-Labs\\Programming\\Sem3\\Lab4\\LC08_L1TP_181025_20190924_20191017_01_T1\\LC08_L1TP_181025_20190924_20191017_01_T1_B8.TIF [1/1] : 0...10...20...30...40...50...60...70...80...90...100 - done.\n",
      "\n",
      "Resolution of 'D:\\MyPython3\\Programming-Labs\\Programming\\Sem3\\Lab4\\LC08_L1TP_181025_20190924_20191017_01_T1\\LC08_L1TP_181025_20190924_20191017_01_T1_B8.TIF' file changed from 15 to 30 and saved into 'pan_30.tif' file.\n",
      "gdalwarp -tr 30 30 D:\\MyPython3\\Programming-Labs\\Programming\\Sem3\\Lab4\\LC08_L1TP_181025_20190924_20191017_01_T1\\LC08_L1TP_181025_20190924_20191017_01_T1_B8.TIF D:\\MyPython3\\Programming-Labs\\Programming\\Sem3\\Lab4\\LC08_L1TP_181025_20190924_20191017_01_T1\\pan_30.tif\n",
      "\n"
     ]
    }
   ],
   "source": [
    "output_60_name = 'output_60.tif'\n",
    "pan_30_name = 'pan_30.tif'\n",
    "\n",
    "output_60_pathes, pan_30_pathes = [], []\n",
    "for i, images_folder in enumerate(images_folders):\n",
    "    output_60_path = os.path.join(images_folder, output_60_name)\n",
    "    if output_60_name in os.listdir(images_folder):\n",
    "        os.remove(output_60_path)\n",
    "        print(f\"Old '{output_60_name}' file was deleted.\")\n",
    "\n",
    "    output_path = output_pathes[i]\n",
    "    command = [\"gdalwarp\", \"-tr\", \"60\", \"60\", output_path, output_60_path]\n",
    "    process = subprocess.run(command, \n",
    "                         stdout=subprocess.PIPE, \n",
    "                         universal_newlines=True)\n",
    "    output_60_pathes.append(output_60_path)\n",
    "    print(process.stdout)\n",
    "    print(f\"Resolution of '{output_path}' file changed from 30 to 60 and saved into '{output_60_name}' file.\")\n",
    "    print(' '.join(command))\n",
    "    print()\n",
    "    \n",
    "    \n",
    "    pan_30_path = os.path.join(images_folder, pan_30_name)\n",
    "    if pan_30_name in os.listdir(images_folder):\n",
    "        os.remove(pan_30_path)\n",
    "        print(f\"Old '{pan_30_name}' file was deleted.\")\n",
    "\n",
    "    pan_path = pan_pathes[i]\n",
    "    command = [\"gdalwarp\", \"-tr\", \"30\", \"30\", pan_path, pan_30_path]\n",
    "    process = subprocess.run(command, \n",
    "                         stdout=subprocess.PIPE, \n",
    "                         universal_newlines=True)\n",
    "    pan_30_pathes.append(pan_30_path)\n",
    "    print(process.stdout)\n",
    "    print(f\"Resolution of '{pan_path}' file changed from 15 to 30 and saved into '{pan_30_name}' file.\")\n",
    "    print(' '.join(command))\n",
    "    print()"
   ]
  },
  {
   "cell_type": "markdown",
   "metadata": {},
   "source": [
    "## Pansharpening"
   ]
  },
  {
   "cell_type": "code",
   "execution_count": 9,
   "metadata": {},
   "outputs": [
    {
     "name": "stdout",
     "output_type": "stream",
     "text": [
      "\n",
      "D:\\Python36\\python.exe D:\\Python36\\Scripts\\gdal_pansharpen.py D:\\MyPython3\\Programming-Labs\\Programming\\Sem3\\Lab4\\LC08_L1TP_182025_20190830_20190903_01_T1\\pan_30.tif D:\\MyPython3\\Programming-Labs\\Programming\\Sem3\\Lab4\\LC08_L1TP_182025_20190830_20190903_01_T1\\output_60.tif D:\\MyPython3\\Programming-Labs\\Programming\\Sem3\\Lab4\\LC08_L1TP_182025_20190830_20190903_01_T1\\pansharpened_nearest_output_30.tif –r nearest\n",
      "\n",
      "\n",
      "D:\\Python36\\python.exe D:\\Python36\\Scripts\\gdal_pansharpen.py D:\\MyPython3\\Programming-Labs\\Programming\\Sem3\\Lab4\\LC08_L1TP_182025_20190830_20190903_01_T1\\pan_30.tif D:\\MyPython3\\Programming-Labs\\Programming\\Sem3\\Lab4\\LC08_L1TP_182025_20190830_20190903_01_T1\\output_60.tif D:\\MyPython3\\Programming-Labs\\Programming\\Sem3\\Lab4\\LC08_L1TP_182025_20190830_20190903_01_T1\\pansharpened_bilinear_output_30.tif –r bilinear\n",
      "\n",
      "\n",
      "D:\\Python36\\python.exe D:\\Python36\\Scripts\\gdal_pansharpen.py D:\\MyPython3\\Programming-Labs\\Programming\\Sem3\\Lab4\\LC08_L1TP_182025_20190830_20190903_01_T1\\pan_30.tif D:\\MyPython3\\Programming-Labs\\Programming\\Sem3\\Lab4\\LC08_L1TP_182025_20190830_20190903_01_T1\\output_60.tif D:\\MyPython3\\Programming-Labs\\Programming\\Sem3\\Lab4\\LC08_L1TP_182025_20190830_20190903_01_T1\\pansharpened_cubic_output_30.tif –r cubic\n",
      "\n",
      "\n",
      "D:\\Python36\\python.exe D:\\Python36\\Scripts\\gdal_pansharpen.py D:\\MyPython3\\Programming-Labs\\Programming\\Sem3\\Lab4\\LC08_L1TP_182025_20190830_20190903_01_T1\\pan_30.tif D:\\MyPython3\\Programming-Labs\\Programming\\Sem3\\Lab4\\LC08_L1TP_182025_20190830_20190903_01_T1\\output_60.tif D:\\MyPython3\\Programming-Labs\\Programming\\Sem3\\Lab4\\LC08_L1TP_182025_20190830_20190903_01_T1\\pansharpened_cubicspline_output_30.tif –r cubicspline\n",
      "\n",
      "\n",
      "D:\\Python36\\python.exe D:\\Python36\\Scripts\\gdal_pansharpen.py D:\\MyPython3\\Programming-Labs\\Programming\\Sem3\\Lab4\\LC08_L1TP_182025_20190830_20190903_01_T1\\pan_30.tif D:\\MyPython3\\Programming-Labs\\Programming\\Sem3\\Lab4\\LC08_L1TP_182025_20190830_20190903_01_T1\\output_60.tif D:\\MyPython3\\Programming-Labs\\Programming\\Sem3\\Lab4\\LC08_L1TP_182025_20190830_20190903_01_T1\\pansharpened_lanczos_output_30.tif –r lanczos\n",
      "\n",
      "\n",
      "D:\\Python36\\python.exe D:\\Python36\\Scripts\\gdal_pansharpen.py D:\\MyPython3\\Programming-Labs\\Programming\\Sem3\\Lab4\\LC08_L1TP_182025_20190830_20190903_01_T1\\pan_30.tif D:\\MyPython3\\Programming-Labs\\Programming\\Sem3\\Lab4\\LC08_L1TP_182025_20190830_20190903_01_T1\\output_60.tif D:\\MyPython3\\Programming-Labs\\Programming\\Sem3\\Lab4\\LC08_L1TP_182025_20190830_20190903_01_T1\\pansharpened_average_output_30.tif –r average\n",
      "\n",
      "\n",
      "D:\\Python36\\python.exe D:\\Python36\\Scripts\\gdal_pansharpen.py D:\\MyPython3\\Programming-Labs\\Programming\\Sem3\\Lab4\\LC08_L1TP_181025_20190924_20191017_01_T1\\pan_30.tif D:\\MyPython3\\Programming-Labs\\Programming\\Sem3\\Lab4\\LC08_L1TP_181025_20190924_20191017_01_T1\\output_60.tif D:\\MyPython3\\Programming-Labs\\Programming\\Sem3\\Lab4\\LC08_L1TP_181025_20190924_20191017_01_T1\\pansharpened_nearest_output_30.tif –r nearest\n",
      "\n",
      "\n",
      "D:\\Python36\\python.exe D:\\Python36\\Scripts\\gdal_pansharpen.py D:\\MyPython3\\Programming-Labs\\Programming\\Sem3\\Lab4\\LC08_L1TP_181025_20190924_20191017_01_T1\\pan_30.tif D:\\MyPython3\\Programming-Labs\\Programming\\Sem3\\Lab4\\LC08_L1TP_181025_20190924_20191017_01_T1\\output_60.tif D:\\MyPython3\\Programming-Labs\\Programming\\Sem3\\Lab4\\LC08_L1TP_181025_20190924_20191017_01_T1\\pansharpened_bilinear_output_30.tif –r bilinear\n",
      "\n",
      "\n",
      "D:\\Python36\\python.exe D:\\Python36\\Scripts\\gdal_pansharpen.py D:\\MyPython3\\Programming-Labs\\Programming\\Sem3\\Lab4\\LC08_L1TP_181025_20190924_20191017_01_T1\\pan_30.tif D:\\MyPython3\\Programming-Labs\\Programming\\Sem3\\Lab4\\LC08_L1TP_181025_20190924_20191017_01_T1\\output_60.tif D:\\MyPython3\\Programming-Labs\\Programming\\Sem3\\Lab4\\LC08_L1TP_181025_20190924_20191017_01_T1\\pansharpened_cubic_output_30.tif –r cubic\n",
      "\n",
      "\n",
      "D:\\Python36\\python.exe D:\\Python36\\Scripts\\gdal_pansharpen.py D:\\MyPython3\\Programming-Labs\\Programming\\Sem3\\Lab4\\LC08_L1TP_181025_20190924_20191017_01_T1\\pan_30.tif D:\\MyPython3\\Programming-Labs\\Programming\\Sem3\\Lab4\\LC08_L1TP_181025_20190924_20191017_01_T1\\output_60.tif D:\\MyPython3\\Programming-Labs\\Programming\\Sem3\\Lab4\\LC08_L1TP_181025_20190924_20191017_01_T1\\pansharpened_cubicspline_output_30.tif –r cubicspline\n",
      "\n",
      "\n",
      "D:\\Python36\\python.exe D:\\Python36\\Scripts\\gdal_pansharpen.py D:\\MyPython3\\Programming-Labs\\Programming\\Sem3\\Lab4\\LC08_L1TP_181025_20190924_20191017_01_T1\\pan_30.tif D:\\MyPython3\\Programming-Labs\\Programming\\Sem3\\Lab4\\LC08_L1TP_181025_20190924_20191017_01_T1\\output_60.tif D:\\MyPython3\\Programming-Labs\\Programming\\Sem3\\Lab4\\LC08_L1TP_181025_20190924_20191017_01_T1\\pansharpened_lanczos_output_30.tif –r lanczos\n",
      "\n",
      "\n",
      "D:\\Python36\\python.exe D:\\Python36\\Scripts\\gdal_pansharpen.py D:\\MyPython3\\Programming-Labs\\Programming\\Sem3\\Lab4\\LC08_L1TP_181025_20190924_20191017_01_T1\\pan_30.tif D:\\MyPython3\\Programming-Labs\\Programming\\Sem3\\Lab4\\LC08_L1TP_181025_20190924_20191017_01_T1\\output_60.tif D:\\MyPython3\\Programming-Labs\\Programming\\Sem3\\Lab4\\LC08_L1TP_181025_20190924_20191017_01_T1\\pansharpened_average_output_30.tif –r average\n",
      "\n"
     ]
    }
   ],
   "source": [
    "pansharpened_output_30_name_mask = \"pansharpened_{}_output_30.tif\"\n",
    "methods = [\"nearest\", \"bilinear\", \"cubic\", \"cubicspline\", \"lanczos\", \"average\"]\n",
    "\n",
    "python_path = r'D:\\Python36\\python.exe'\n",
    "gdal_modules_path = r'D:\\Python36\\Scripts'\n",
    "\n",
    "for i, images_folder in enumerate(images_folders):\n",
    "    output_60_path = output_60_pathes[i]\n",
    "    pan_30_path = pan_30_pathes[i]\n",
    "    for method in methods:\n",
    "        pansharpened_output_30_name = pansharpened_output_30_name_mask.format(method)\n",
    "        pansharpened_output_30_path = os.path.join(images_folder, pansharpened_output_30_name)\n",
    "        if pansharpened_output_30_name in os.listdir(images_folder):\n",
    "            os.remove(pansharpened_output_30_path)\n",
    "            print(f\"Old '{pansharpened_output_30_name}' file was deleted.\")\n",
    "\n",
    "        command = [python_path, os.path.join(gdal_modules_path, 'gdal_pansharpen.py'), pan_30_path, output_60_path, pansharpened_output_30_path, \"–r\", method]\n",
    "        process = subprocess.run(command, \n",
    "                             stdout=subprocess.PIPE, \n",
    "                             universal_newlines=True)\n",
    "\n",
    "        print(process.stdout)\n",
    "        # print(f\"'{output_60_path}' image pansharpened into '{pansharpened_output_30_name}' file using '{method}' method.\")\n",
    "        print(' '.join(command))\n",
    "        print()"
   ]
  },
  {
   "cell_type": "markdown",
   "metadata": {},
   "source": [
    "## Evaluate"
   ]
  },
  {
   "cell_type": "code",
   "execution_count": 11,
   "metadata": {
    "scrolled": true
   },
   "outputs": [
    {
     "name": "stdout",
     "output_type": "stream",
     "text": [
      "MSE of 'nearest' method: 19316.947\n",
      "MSE of 'bilinear' method: 19283.086\n",
      "MSE of 'cubic' method: 19304.345\n",
      "MSE of 'cubicspline' method: 19266.551\n",
      "MSE of 'lanczos' method: 19309.882\n",
      "MSE of 'average' method: 19297.125\n",
      "\n",
      "MSE of 'nearest' method: 17737.967\n",
      "MSE of 'bilinear' method: 17709.430\n",
      "MSE of 'cubic' method: 17729.379\n",
      "MSE of 'cubicspline' method: 17691.056\n",
      "MSE of 'lanczos' method: 17737.867\n",
      "MSE of 'average' method: 17723.039\n",
      "\n"
     ]
    }
   ],
   "source": [
    "import numpy as np\n",
    "from osgeo import gdal\n",
    "from sklearn.metrics import mean_squared_error\n",
    "\n",
    "for i, images_folder in enumerate(images_folders):\n",
    "    output_path = output_pathes[i]\n",
    "    ds_true = gdal.Open(output_path)\n",
    "    array_true = [np.array(ds_true.GetRasterBand(1).ReadAsArray()), \n",
    "                  np.array(ds_true.GetRasterBand(2).ReadAsArray()), \n",
    "                  np.array(ds_true.GetRasterBand(3).ReadAsArray())]\n",
    "    for method in methods:\n",
    "        pansharpened_output_30_name = pansharpened_output_30_name_mask.format(method)\n",
    "        pansharpened_output_30_path = os.path.join(images_folder, pansharpened_output_30_name)\n",
    "        ds_pan = gdal.Open(pansharpened_output_30_path)\n",
    "        array_pan = [np.array(ds_pan.GetRasterBand(1).ReadAsArray()), \n",
    "                     np.array(ds_pan.GetRasterBand(2).ReadAsArray()), \n",
    "                     np.array(ds_pan.GetRasterBand(3).ReadAsArray())]\n",
    "        mse = np.array([mean_squared_error(array_true[i], array_pan[i]) for i in range(3)]).mean()\n",
    "        print(f\"MSE of '{method}' method: %.3f\" % (mse))\n",
    "    print()"
   ]
  },
  {
   "cell_type": "code",
   "execution_count": null,
   "metadata": {},
   "outputs": [],
   "source": []
  }
 ],
 "metadata": {
  "kernelspec": {
   "display_name": "Python 3",
   "language": "python",
   "name": "python3"
  },
  "language_info": {
   "codemirror_mode": {
    "name": "ipython",
    "version": 3
   },
   "file_extension": ".py",
   "mimetype": "text/x-python",
   "name": "python",
   "nbconvert_exporter": "python",
   "pygments_lexer": "ipython3",
   "version": "3.6.5"
  }
 },
 "nbformat": 4,
 "nbformat_minor": 2
}
