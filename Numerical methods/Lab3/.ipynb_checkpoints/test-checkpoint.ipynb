{
 "cells": [
  {
   "cell_type": "code",
   "execution_count": 1,
   "id": "0a7d0706",
   "metadata": {},
   "outputs": [],
   "source": [
    "import numpy as np"
   ]
  },
  {
   "cell_type": "code",
   "execution_count": 2,
   "id": "376adbd7",
   "metadata": {},
   "outputs": [],
   "source": [
    "def check(a):\n",
    "    for i in range(len(a)):\n",
    "        s, d = 0, 0\n",
    "        for j in range(len(a)):\n",
    "            if i == j:\n",
    "                d = abs(a[i, j])\n",
    "            else:\n",
    "                s += abs(a[i, j])\n",
    "        if d <= s:\n",
    "            print(False)\n",
    "        else:\n",
    "            print(True)"
   ]
  },
  {
   "cell_type": "code",
   "execution_count": 3,
   "id": "2ccb4c9f",
   "metadata": {},
   "outputs": [
    {
     "name": "stdout",
     "output_type": "stream",
     "text": [
      "[[1.   0.42 0.54 0.66]\n",
      " [0.42 1.   0.32 0.44]\n",
      " [0.54 0.32 1.   0.22]\n",
      " [0.66 0.44 0.22 1.  ]]\n",
      "False\n",
      "False\n",
      "False\n",
      "False\n",
      "[[0.3]\n",
      " [0.5]\n",
      " [0.7]\n",
      " [0.9]]\n"
     ]
    }
   ],
   "source": [
    "a = np.array([[1., 0.42, 0.54, 0.66], [0.42, 1., 0.32, 0.44], [0.54, 0.32, 1., 0.22], [0.66, 0.44, 0.22, 1.]])\n",
    "b = np.array([0.3, 0.5, 0.7, 0.9]).reshape(-1, 1)\n",
    "print(a)\n",
    "check(a)\n",
    "print(b)"
   ]
  },
  {
   "cell_type": "code",
   "execution_count": 4,
   "id": "f704a757",
   "metadata": {},
   "outputs": [
    {
     "name": "stdout",
     "output_type": "stream",
     "text": [
      "[[0.5644 0.1296 0.3948 0.    ]\n",
      " [0.42   1.     0.32   0.44  ]\n",
      " [0.54   0.32   1.     0.22  ]\n",
      " [0.66   0.44   0.22   1.    ]]\n",
      "True\n",
      "False\n",
      "False\n",
      "False\n",
      "[[-0.294]\n",
      " [ 0.5  ]\n",
      " [ 0.7  ]\n",
      " [ 0.9  ]]\n"
     ]
    }
   ],
   "source": [
    "a[0] = a[0] - 0.66 * a[3]\n",
    "print(a)\n",
    "check(a)\n",
    "b[0] = b[0] - 0.66 * b[3]\n",
    "print(b)"
   ]
  },
  {
   "cell_type": "code",
   "execution_count": 5,
   "id": "3d33a941",
   "metadata": {},
   "outputs": [
    {
     "name": "stdout",
     "output_type": "stream",
     "text": [
      "[[0.5644 0.1296 0.3948 0.    ]\n",
      " [0.1296 0.8064 0.2232 0.    ]\n",
      " [0.54   0.32   1.     0.22  ]\n",
      " [0.66   0.44   0.22   1.    ]]\n",
      "True\n",
      "True\n",
      "False\n",
      "False\n",
      "[[-0.294]\n",
      " [ 0.104]\n",
      " [ 0.7  ]\n",
      " [ 0.9  ]]\n"
     ]
    }
   ],
   "source": [
    "a[1] = a[1] - 0.44 * a[3]\n",
    "print(a)\n",
    "check(a)\n",
    "b[1] = b[1] - 0.44 * b[3]\n",
    "print(b)"
   ]
  },
  {
   "cell_type": "code",
   "execution_count": 6,
   "id": "96e63731",
   "metadata": {},
   "outputs": [
    {
     "name": "stdout",
     "output_type": "stream",
     "text": [
      "[[ 0.5644  0.1296  0.3948  0.    ]\n",
      " [ 0.1296  0.8064  0.2232  0.    ]\n",
      " [ 0.0054 -0.0364  0.8218 -0.59  ]\n",
      " [ 0.66    0.44    0.22    1.    ]]\n",
      "True\n",
      "True\n",
      "True\n",
      "False\n",
      "[[-0.294]\n",
      " [ 0.104]\n",
      " [-0.029]\n",
      " [ 0.9  ]]\n"
     ]
    }
   ],
   "source": [
    "a[2] = a[2] - 0.81 * a[3]\n",
    "print(a)\n",
    "check(a)\n",
    "b[2] = b[2] - 0.81 * b[3]\n",
    "print(b)"
   ]
  },
  {
   "cell_type": "code",
   "execution_count": 7,
   "id": "9cc0baeb",
   "metadata": {},
   "outputs": [
    {
     "name": "stdout",
     "output_type": "stream",
     "text": [
      "[[ 0.5644    0.1296    0.3948    0.      ]\n",
      " [ 0.1296    0.8064    0.2232    0.      ]\n",
      " [ 0.0054   -0.0364    0.8218   -0.59    ]\n",
      " [ 0.005296  0.289664 -0.237968  1.      ]]\n",
      "True\n",
      "True\n",
      "True\n",
      "True\n",
      "[[-0.294  ]\n",
      " [ 0.104  ]\n",
      " [-0.029  ]\n",
      " [ 1.24104]]\n"
     ]
    }
   ],
   "source": [
    "a[3] = a[3] - 1.16 * a[0]\n",
    "print(a)\n",
    "check(a)\n",
    "b[3] = b[3] - 1.16 * b[0]\n",
    "print(b)"
   ]
  },
  {
   "cell_type": "code",
   "execution_count": null,
   "id": "f5587254",
   "metadata": {},
   "outputs": [],
   "source": []
  }
 ],
 "metadata": {
  "kernelspec": {
   "display_name": "Python 3",
   "language": "python",
   "name": "python3"
  },
  "language_info": {
   "codemirror_mode": {
    "name": "ipython",
    "version": 3
   },
   "file_extension": ".py",
   "mimetype": "text/x-python",
   "name": "python",
   "nbconvert_exporter": "python",
   "pygments_lexer": "ipython3",
   "version": "3.8.8"
  }
 },
 "nbformat": 4,
 "nbformat_minor": 5
}
