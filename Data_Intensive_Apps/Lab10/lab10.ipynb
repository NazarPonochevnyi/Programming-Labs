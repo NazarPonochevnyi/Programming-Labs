{
 "cells": [
  {
   "cell_type": "code",
   "execution_count": 1,
   "id": "eeb9a14b",
   "metadata": {},
   "outputs": [],
   "source": [
    "from pyspark import SparkConf, SparkContext\n",
    "\n",
    "class WikipediaArticle:\n",
    "    def __init__(self, title: str, text: str):\n",
    "        self.title = title\n",
    "        self.text = text\n",
    "\n",
    "def parse(line: str):\n",
    "    subs = \"</title><text>\"\n",
    "    i = line.find(subs)\n",
    "    title = line[14:i]\n",
    "    text = line[i + len(subs):-16]\n",
    "    return WikipediaArticle(title, text)"
   ]
  },
  {
   "cell_type": "code",
   "execution_count": 2,
   "id": "ea29a5b4",
   "metadata": {},
   "outputs": [
    {
     "name": "stderr",
     "output_type": "stream",
     "text": [
      "WARNING: An illegal reflective access operation has occurred\n",
      "WARNING: Illegal reflective access by org.apache.spark.unsafe.Platform (file:/usr/local/spark-3.1.2-bin-hadoop3.2/jars/spark-unsafe_2.12-3.1.2.jar) to constructor java.nio.DirectByteBuffer(long,int)\n",
      "WARNING: Please consider reporting this to the maintainers of org.apache.spark.unsafe.Platform\n",
      "WARNING: Use --illegal-access=warn to enable warnings of further illegal reflective access operations\n",
      "WARNING: All illegal access operations will be denied in a future release\n",
      "23/01/17 22:13:22 WARN NativeCodeLoader: Unable to load native-hadoop library for your platform... using builtin-java classes where applicable\n",
      "Using Spark's default log4j profile: org/apache/spark/log4j-defaults.properties\n",
      "Setting default log level to \"WARN\".\n",
      "To adjust logging level use sc.setLogLevel(newLevel). For SparkR, use setLogLevel(newLevel).\n"
     ]
    }
   ],
   "source": [
    "conf = SparkConf().setAppName(\"Wikipedia Languages\")\n",
    "sc = SparkContext(conf=conf)\n",
    "\n",
    "languages = [\"JavaScript\", \"Java\", \"PHP\", \"Python\", \"C#\", \"C++\", \"Ruby\", \"CSS\", \"Objective-C\", \"Perl\", \"Scala\", \"Haskell\", \"MATLAB\", \"Clojure\", \"Groovy\"]"
   ]
  },
  {
   "cell_type": "code",
   "execution_count": 3,
   "id": "52bd986b",
   "metadata": {},
   "outputs": [],
   "source": [
    "data = sc.textFile(\"wikipedia.dat\")"
   ]
  },
  {
   "cell_type": "code",
   "execution_count": 4,
   "id": "ea1c39d5",
   "metadata": {},
   "outputs": [
    {
     "name": "stderr",
     "output_type": "stream",
     "text": [
      "[Stage 0:>                                                          (0 + 5) / 5]\r"
     ]
    },
    {
     "name": "stdout",
     "output_type": "stream",
     "text": [
      "C++: 3044\n",
      "Java: 15306\n",
      "Ruby: 1233\n",
      "PHP: 1918\n",
      "Haskell: 561\n",
      "C#: 2781\n",
      "CSS: 3463\n",
      "Objective-C: 640\n",
      "Perl: 1060\n",
      "Scala: 523\n",
      "JavaScript: 7488\n",
      "Python: 2523\n",
      "MATLAB: 1004\n",
      "Clojure: 123\n",
      "Groovy: 178\n"
     ]
    },
    {
     "name": "stderr",
     "output_type": "stream",
     "text": [
      "                                                                                \r"
     ]
    }
   ],
   "source": [
    "# count how many times each of the programming languages occurs\n",
    "\n",
    "def count_languages(article: WikipediaArticle):\n",
    "    count = {}\n",
    "    for language in languages:\n",
    "        count[language] = article.text.count(language)\n",
    "    return count.items()\n",
    "\n",
    "language_counts = data.map(parse).flatMap(count_languages)\n",
    "\n",
    "language_counts = language_counts.reduceByKey(lambda a, b: a + b)\n",
    "\n",
    "results = language_counts.collect()\n",
    "for result in results:\n",
    "    print(f\"{result[0]}: {result[1]}\")"
   ]
  },
  {
   "cell_type": "code",
   "execution_count": 5,
   "id": "8f8acf13",
   "metadata": {},
   "outputs": [
    {
     "name": "stdout",
     "output_type": "stream",
     "text": [
      "C++: 554\n",
      "Ruby: 287\n",
      "Java: 2017\n",
      "PHP: 452\n",
      "Haskell: 128\n",
      "CSS: 555\n",
      "Perl: 300\n",
      "Scala: 161\n",
      "C#: 849\n",
      "Objective-C: 112\n",
      "JavaScript: 1738\n",
      "MATLAB: 324\n",
      "Python: 545\n",
      "Groovy: 55\n",
      "Clojure: 60\n"
     ]
    }
   ],
   "source": [
    "# for each language, in how many articles is it mentioned\n",
    "\n",
    "def count_articles_by_language(article: WikipediaArticle):\n",
    "    count = {}\n",
    "    for language in languages:\n",
    "        if language in article.text:\n",
    "            count[language] = 1\n",
    "    return count.items()\n",
    "\n",
    "articles_counts = data.map(parse).flatMap(count_articles_by_language)\n",
    "\n",
    "articles_counts = articles_counts.reduceByKey(lambda a, b: a + b)\n",
    "\n",
    "results = articles_counts.collect()\n",
    "for result in results:\n",
    "    print(f\"{result[0]}: {result[1]}\")"
   ]
  },
  {
   "cell_type": "code",
   "execution_count": null,
   "id": "851e7d85",
   "metadata": {},
   "outputs": [],
   "source": []
  }
 ],
 "metadata": {
  "kernelspec": {
   "display_name": "Python 3 (ipykernel)",
   "language": "python",
   "name": "python3"
  },
  "language_info": {
   "codemirror_mode": {
    "name": "ipython",
    "version": 3
   },
   "file_extension": ".py",
   "mimetype": "text/x-python",
   "name": "python",
   "nbconvert_exporter": "python",
   "pygments_lexer": "ipython3",
   "version": "3.9.7"
  }
 },
 "nbformat": 4,
 "nbformat_minor": 5
}
